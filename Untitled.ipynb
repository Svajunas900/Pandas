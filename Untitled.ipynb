{
 "cells": [
  {
   "cell_type": "code",
   "execution_count": 56,
   "id": "c2ae6830-3271-4287-a7ed-1f6a262c5b71",
   "metadata": {},
   "outputs": [],
   "source": [
    "import numpy as np\n",
    "from numpy.random import default_rng"
   ]
  },
  {
   "cell_type": "code",
   "execution_count": 3,
   "id": "8fbfa2d8-089f-4bfa-b979-472232b59e32",
   "metadata": {},
   "outputs": [],
   "source": [
    "my_list = [i * 10 for i in range(1,11)]"
   ]
  },
  {
   "cell_type": "code",
   "execution_count": 18,
   "id": "85c76cb4-f1ae-40ac-9f4b-745875744a4c",
   "metadata": {},
   "outputs": [],
   "source": [
    "np_array = np.array(my_list).reshape(5,2)"
   ]
  },
  {
   "cell_type": "code",
   "execution_count": 19,
   "id": "b47b6b9b-d49d-4fea-8df7-a431f6143f50",
   "metadata": {},
   "outputs": [
    {
     "data": {
      "text/plain": [
       "array([[ 10,  20],\n",
       "       [ 30,  40],\n",
       "       [ 50,  60],\n",
       "       [ 70,  80],\n",
       "       [ 90, 100]])"
      ]
     },
     "execution_count": 19,
     "metadata": {},
     "output_type": "execute_result"
    }
   ],
   "source": [
    "np_array"
   ]
  },
  {
   "cell_type": "code",
   "execution_count": 8,
   "id": "5212857f-6338-40b1-91d8-a61bb7593c48",
   "metadata": {},
   "outputs": [
    {
     "data": {
      "text/plain": [
       "(10,)"
      ]
     },
     "execution_count": 8,
     "metadata": {},
     "output_type": "execute_result"
    }
   ],
   "source": [
    "np_array.shape"
   ]
  },
  {
   "cell_type": "code",
   "execution_count": 9,
   "id": "987f7e98-1791-4f51-aaf9-5946a21d6eb5",
   "metadata": {},
   "outputs": [
    {
     "data": {
      "text/plain": [
       "10"
      ]
     },
     "execution_count": 9,
     "metadata": {},
     "output_type": "execute_result"
    }
   ],
   "source": [
    "np_array.size"
   ]
  },
  {
   "cell_type": "code",
   "execution_count": 12,
   "id": "d11336db-0de0-466e-bff8-8a1d9f1c792c",
   "metadata": {},
   "outputs": [
    {
     "data": {
      "text/plain": [
       "dtype('int64')"
      ]
     },
     "execution_count": 12,
     "metadata": {},
     "output_type": "execute_result"
    }
   ],
   "source": [
    "np_array.dtype"
   ]
  },
  {
   "cell_type": "code",
   "execution_count": 53,
   "id": "301e0910-8b84-401e-9bcd-30b0836fb2c2",
   "metadata": {},
   "outputs": [],
   "source": [
    "my_array = np.zeros((5,3), \"int\")\n",
    "my_array1 = np.ones(10, \"int\")\n",
    "my_array2 = np.linspace(0, 100, 12, dtype=int)\n",
    "my_array3 = np.arange(0, 10)"
   ]
  },
  {
   "cell_type": "code",
   "execution_count": 54,
   "id": "54efc8c5-07f5-4c46-b66d-445f682f212e",
   "metadata": {},
   "outputs": [
    {
     "data": {
      "text/plain": [
       "array([1, 1, 1, 1, 1, 1, 1, 1, 1, 1])"
      ]
     },
     "execution_count": 54,
     "metadata": {},
     "output_type": "execute_result"
    }
   ],
   "source": [
    "my_array1"
   ]
  },
  {
   "cell_type": "code",
   "execution_count": 55,
   "id": "3d2a38de-432f-47f0-a73f-578c5ff3af06",
   "metadata": {},
   "outputs": [
    {
     "data": {
      "text/plain": [
       "array([[0, 0, 0],\n",
       "       [0, 0, 0],\n",
       "       [0, 0, 0],\n",
       "       [0, 0, 0],\n",
       "       [0, 0, 0]])"
      ]
     },
     "execution_count": 55,
     "metadata": {},
     "output_type": "execute_result"
    }
   ],
   "source": [
    "my_array"
   ]
  },
  {
   "cell_type": "code",
   "execution_count": 49,
   "id": "78f0d67e-7dd4-4a4c-b730-7fd605bfe04b",
   "metadata": {},
   "outputs": [
    {
     "data": {
      "text/plain": [
       "array([[  0,   9,  18,  27,  36,  45],\n",
       "       [ 54,  63,  72,  81,  90, 100]])"
      ]
     },
     "execution_count": 49,
     "metadata": {},
     "output_type": "execute_result"
    }
   ],
   "source": [
    "my_array2.reshape(2,6)"
   ]
  },
  {
   "cell_type": "code",
   "execution_count": 44,
   "id": "6cd696ca-6869-4fbd-9989-13d92ebba381",
   "metadata": {},
   "outputs": [
    {
     "data": {
      "text/plain": [
       "array([[0, 1, 2, 3, 4],\n",
       "       [5, 6, 7, 8, 9]])"
      ]
     },
     "execution_count": 44,
     "metadata": {},
     "output_type": "execute_result"
    }
   ],
   "source": [
    "my_array3.reshape(2,5)"
   ]
  },
  {
   "cell_type": "code",
   "execution_count": 57,
   "id": "2cb0e04b-e4e9-4da5-a52b-5b99d8134bfd",
   "metadata": {},
   "outputs": [],
   "source": [
    "rng = default_rng(12345)"
   ]
  },
  {
   "cell_type": "code",
   "execution_count": 58,
   "id": "1e34ad78-01f5-4700-8c26-52d744084698",
   "metadata": {},
   "outputs": [],
   "source": [
    "random_array = rng.random(10)"
   ]
  },
  {
   "cell_type": "code",
   "execution_count": 60,
   "id": "064de5e7-5155-4c26-98c8-505bbf6bcd7e",
   "metadata": {},
   "outputs": [
    {
     "data": {
      "text/plain": [
       "array([0.22733602, 0.31675834, 0.79736546, 0.67625467, 0.39110955,\n",
       "       0.33281393, 0.59830875, 0.18673419, 0.67275604, 0.94180287])"
      ]
     },
     "execution_count": 60,
     "metadata": {},
     "output_type": "execute_result"
    }
   ],
   "source": [
    "random_array"
   ]
  },
  {
   "cell_type": "raw",
   "id": "bd1cff31-7eb0-4d09-bad6-3d138c80a38a",
   "metadata": {},
   "source": []
  },
  {
   "cell_type": "code",
   "execution_count": 69,
   "id": "13072b91-26b3-4a8d-8c60-a59e12eff907",
   "metadata": {},
   "outputs": [],
   "source": [
    "rng = default_rng(54321)\n",
    "normal_array = rng.normal(5,2,size=10)"
   ]
  },
  {
   "cell_type": "code",
   "execution_count": 70,
   "id": "cebf0540-df05-4d37-9865-0ebc98010749",
   "metadata": {},
   "outputs": [
    {
     "data": {
      "text/plain": [
       "array([6.64967537, 5.81498135, 7.73022888, 6.17402588, 2.28218761,\n",
       "       6.89091203, 6.69955729, 5.11491172, 6.35950781, 3.28012379])"
      ]
     },
     "execution_count": 70,
     "metadata": {},
     "output_type": "execute_result"
    }
   ],
   "source": [
    "normal_array"
   ]
  },
  {
   "cell_type": "code",
   "execution_count": 72,
   "id": "ea63d416-58b7-429b-9e88-a9f6ba2fb568",
   "metadata": {},
   "outputs": [],
   "source": [
    "my_array = np.linspace(10, 100, 10).reshape(5,2)"
   ]
  },
  {
   "cell_type": "code",
   "execution_count": 73,
   "id": "cc25a3c7-8dbf-49cc-9cc0-25a4d5bb0c54",
   "metadata": {},
   "outputs": [
    {
     "data": {
      "text/plain": [
       "array([[ 10.,  20.],\n",
       "       [ 30.,  40.],\n",
       "       [ 50.,  60.],\n",
       "       [ 70.,  80.],\n",
       "       [ 90., 100.]])"
      ]
     },
     "execution_count": 73,
     "metadata": {},
     "output_type": "execute_result"
    }
   ],
   "source": [
    "my_array"
   ]
  },
  {
   "cell_type": "code",
   "execution_count": 74,
   "id": "4b1ddbf0-ad45-4d32-b1a7-91dd5576eeda",
   "metadata": {},
   "outputs": [],
   "source": [
    "rng = default_rng(15243)\n",
    "random = rng.random(9).reshape(3,3)"
   ]
  },
  {
   "cell_type": "code",
   "execution_count": 75,
   "id": "8a3ab30e-af03-4d2a-bd15-9a4a030a5b7e",
   "metadata": {},
   "outputs": [
    {
     "data": {
      "text/plain": [
       "array([[0.78090634, 0.5459923 , 0.39246689],\n",
       "       [0.68895488, 0.01391697, 0.54675261],\n",
       "       [0.25864678, 0.31740567, 0.2241884 ]])"
      ]
     },
     "execution_count": 75,
     "metadata": {},
     "output_type": "execute_result"
    }
   ],
   "source": [
    "random"
   ]
  },
  {
   "cell_type": "code",
   "execution_count": null,
   "id": "5cbd766c-97f3-455a-842e-9aedededa0a5",
   "metadata": {},
   "outputs": [],
   "source": []
  }
 ],
 "metadata": {
  "kernelspec": {
   "display_name": "Python 3 (ipykernel)",
   "language": "python",
   "name": "python3"
  },
  "language_info": {
   "codemirror_mode": {
    "name": "ipython",
    "version": 3
   },
   "file_extension": ".py",
   "mimetype": "text/x-python",
   "name": "python",
   "nbconvert_exporter": "python",
   "pygments_lexer": "ipython3",
   "version": "3.10.0"
  }
 },
 "nbformat": 4,
 "nbformat_minor": 5
}
